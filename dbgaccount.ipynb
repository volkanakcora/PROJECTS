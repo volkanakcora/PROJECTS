{
 "cells": [
  {
   "cell_type": "markdown",
   "metadata": {},
   "source": [
    "## Twitter Analysis of DBG Account"
   ]
  },
  {
   "cell_type": "code",
   "execution_count": 9,
   "metadata": {},
   "outputs": [],
   "source": [
    "import tweepy, codecs\n",
    "import matplotlib.pyplot as plt"
   ]
  },
  {
   "cell_type": "code",
   "execution_count": 11,
   "metadata": {},
   "outputs": [],
   "source": [
    "consumer_key = \"cQcORsTZjTozZ53\"\n",
    "consumer_secret = \"Ro6p8oxhOj9kcI3vdeXlqetaWCZ1O\"\n",
    "access_token =\"3224795051-L4CQAiU8QjpcPYVH\"\n",
    "access_token_secret =\"FYcR91CokylrtL\"\n",
    "\n",
    "auth = tweepy.OAuthHandler(consumer_key,consumer_secret)\n",
    "auth.set_access_token(access_token, access_token_secret)\n",
    "api = tweepy.API(auth)"
   ]
  },
  {
   "cell_type": "code",
   "execution_count": 13,
   "metadata": {},
   "outputs": [],
   "source": [
    "dbgaccount = api.get_user(\"DeutscheBoerse\")"
   ]
  },
  {
   "cell_type": "code",
   "execution_count": 15,
   "metadata": {},
   "outputs": [
    {
     "output_type": "execute_result",
     "data": {
      "text/plain": "19509"
     },
     "metadata": {},
     "execution_count": 15
    }
   ],
   "source": [
    "dbgaccount.followers_count"
   ]
  },
  {
   "cell_type": "code",
   "execution_count": 17,
   "metadata": {},
   "outputs": [
    {
     "output_type": "execute_result",
     "data": {
      "text/plain": "8835"
     },
     "metadata": {},
     "execution_count": 17
    }
   ],
   "source": [
    "dbgaccount.statuses_count"
   ]
  },
  {
   "cell_type": "code",
   "execution_count": 19,
   "metadata": {},
   "outputs": [
    {
     "output_type": "execute_result",
     "data": {
      "text/plain": "4246"
     },
     "metadata": {},
     "execution_count": 19
    }
   ],
   "source": [
    "dbgaccount.favourites_count"
   ]
  },
  {
   "cell_type": "code",
   "execution_count": 21,
   "metadata": {},
   "outputs": [],
   "source": [
    "tweets= api.user_timeline(id = \"DeutscheBoerse\",result_type = \"recent\", count = 20000)"
   ]
  },
  {
   "cell_type": "code",
   "execution_count": 23,
   "metadata": {
    "tags": [
     "outputPrepend"
    ]
   },
   "outputs": [
    {
     "output_type": "stream",
     "name": "stdout",
     "text": "@Qontigofinance: Pet Care, Video Gaming, Health Care: #Qontigo’s #thematic #indices family is growing. https://t.co/9tx7HLYo5U https://t…\nHappy 20th birthday, #ETFs! It all started with two exchange-traded #index funds, listed on our @Xetra market – and… https://t.co/wc8r82BLe2\nWith this year’s start of the Securities Financing Transaction Regulation (SFTR), REGIS-TR aims to provide an exper… https://t.co/99XhF40lRg\nRT @EurexGroup: Our recently launched #futures on STOXX® USA 500 ESG-X (FSUS) (Bloomberg: QFCA Index) are now available for #trading to U.S…\nRT @Qontigofinance: Happy 20th birthday to #ETFs in Europe: Two decades ago, in April, the first European exchange-traded funds were listed…\nLooking back at 20 years of ETFs: Stephan Kraus, responsible for the #ETF segment at Deutsche Börse, talks with us… https://t.co/Jnh0C7xpey\nOur reading recommendation for today's #HomeOffice break! https://t.co/UCaPfFSGpg\nRT @Qontigofinance: #MondayMotivation: We are proud that #STOXX was named 'Best European Index Provider' by @ETFExpress for the tenth time!…\nAs we are approaching the 20-year-anniversary of #ETFs on #Xetra, we’re taking you back in time and outline the mos… https://t.co/3kzHDuizek\nRT @Qontigofinance: As information technology and autonomous machines develop at fast pace, investors are seeking to profit from #AI’s econ…\nRT @Clearstream: 💻 #FlattenTheCurve COVID-19 is challenging us to find new ways to do business. Phil Brown, #Clearstream Head of Global RM,…\nFrom #Sydney via #Prague to #NewYork - we all are working from home to keep on creating trust in the markets of tod… https://t.co/RdLcr0bQAB\nWe just launched #TAIFEX Derivatives Market Ultra. With this new #data product, market participants will gain deepe… https://t.co/gWCCEnSAep\nDeutsche Börse Photography Foundation and @DGPh join forces to award two new prizes for #research and innovative pu… https://t.co/Ru2087kLVk\nRT @FESEBrussels: See our latest press release:  'European Exchanges will remain open' https://t.co/CWTlsomFAk\nWe have no plans of market closure. Quite the opposite: we will work hard to keep our #exchanges open even if the c… https://t.co/29TcXEu3a8\n#Homeoffice #FlattenTheCurve https://t.co/HfgVLJmn4O\nNext reading recommendation for your home office lunch break: Our #AnnualReport2019 with all facts and figures.… https://t.co/QS0TQuoY6l\n#Homeoffice-induced cabin fever? Cool your mind and read how we create trust in the #markets by ensuring that… https://t.co/QpVK7ZsXvB\n@jahnboehm Derzeit ist ein Termin in der zweiten Jahreshälfte angedacht, ein genaues Datum steht allerdings noch ni… https://t.co/1Rkw4gxdtV\nRT @EurexGroup: We expand the reach of our OTC #clearing services to #Japan! 🇯🇵 With this step, Japanese financial institutions can directl…\nRT @Clearstream: 📝 Do you know what the patent behind @Postit notes and #Clearstream have in common? Both are turning 50 this year. Happy b…\nRT @Qontigofinance: #Qontigo's Willem Keogh recently had an interview with @Climate_Action_ to discuss the outlook for #ESG data and its in…\nHappy #InternationalWomensDay! To all women out there, here’s a personal message to you from our Executive Board Me… https://t.co/GwXmS9R3MZ\nHeike Eckert to take on responsibility for Human Resources and Compliance on our Executive Board as of 1 July.… https://t.co/TUhZlxDkFo\nRT @EurexGroup: Eurex is delighted to become a partner of the #ISLA Council for Sustainable Finance (ICSF) and work towards adopting the Pr…\n@investabel @KristinaJeromin Geplant ist derzeit 22h. Vielen Dank für Ihre Geduld!\n@investabel @KristinaJeromin Liebe @investabel, vielen Dank für Ihre Anfrage - eine Auflistung wird in Kürze auf… https://t.co/2eE2TCanah\nThe #DAX has a new, sustainable family member: Launched by @qontigofinance, our #index and analytics business, the… https://t.co/pUGP1bjzpg\nPutting the #DAX on the test bench: Like every quarter, tomorrow the composition of the DAX family will be reviewed… https://t.co/iXeQmwWj0d\nRT @Clearstream: Looking for some #MondayMotivation? 🤩 Why not revisit @naszub’s keynote speech on #technology and #innovation as key busin…\nNew day starting with a great event! Follow our colleagues from @EurexGroup to get some insights into today's… https://t.co/HujZWr5Yzj\nRT @Xetra: New mark set: @XetraGold gold holdings have exceeded the 10 billion euro mark. Reasons: rising gold price and high demand. $Gold…\nLooking forward to next week's #DerivativesForum 2020! #SaveTheDate https://t.co/kmFvNIjsow\n#Art lovers can look forward: Our Deutsche Börse Photography Foundation is proudly presenting its upcoming… https://t.co/1xcUZvimE0\nRT @stoxx: Spotlight on the #US and #Asia: We caught up with #Qontigo's Heads of Index Sales, Asia/Pacific and North America, Rick Chau and…\n\"I am deeply convinced that we are in a business that is growing - and we need to keep growing\" - CEO Theodor Weimer. #db1pc\nTheodor Weimer concludes the lecture part with an #outlook: \"We look forward to the year 2020 with confidence.\"… https://t.co/mNy4U1uUmg\nOur CFO Gregor Pottmeyer continues with the financial segment reporting: @EurexGroup +2%; @EEXGroup +13%; #360T +17… https://t.co/RpaqrlnUWk\n\"We have once again exceeded the previous year's results. We were again able to improve our strong net profit of th… https://t.co/xyAyS9NPmR\nThe calm before the storm...we are eagerly awaiting the start signal for our Annual Press Conference 2020. #excited… https://t.co/tAGQFrByv5\nTomorrow our Executive Board will present our #figures2019 and an outlook on #2020. Follow the link to join our liv… https://t.co/9NehZflgoq\nLooking back on a good year: #Q4 and the full #2019 ending with strong #growth. https://t.co/P4l2CW6i8x https://t.co/0sgvHTUiGm\nOur #CEO Theodor Weimer stays on board - the Supervisory Board extended his contract until 31 December 2024 in its… https://t.co/bu2UWEyBYp\nRT @EurexGroup: #ESGDerivatives one year on 🌱 we‘re looking back on a successful first year in #ESG #trading! As of today, new #STOXX® USA…\nRT @Clearstream: 📃🖊️ We’ve officially become a member of the #Luxembourg #sustainability network @imslux. Excited to tackle joint projects…\nRT @EurexGroup: In the first month of 2020, European #equity #index #derivatives, OTC #clearing volumes, as well as power #trading volumes…\n“Our industry is on the move. It is growing and profitable”, stated our CEO Theodor Weimer on yesterday’s… https://t.co/wBkYON0zys\nThe last day of our #GFFSummit has already started. Follow our colleagues from @Clearstream and @EurexGroup to get… https://t.co/WV4lGS2Muy\nToday and tomorrow it is all about the #GFFSummit in #Luxembourg. Follow @Clearstream and @EurexGroup to stay tuned! https://t.co/tWRednmIIP\nOnboarding completed: @jpmorgan successfully joins @EurexGroup GC Pooling as pilot client for balance sheet netting… https://t.co/PTUyC0Dxfl\n@qontigofinance has launched the @stoxx Factor #Index suite, bringing together the powerful indexing and analytics… https://t.co/Tt82UVncYU\nRT @EurexGroup: @DeutscheBoerse @Clearstream Our #GFFSummit is right around the corner! In the last part of our blog series, #Eurex’s Jonat…\nA very happy #ChineseNewYear to all those who #celebrate all around the globe! #YearoftheRat https://t.co/YuXaTOQ7yJ\nIt's a BLOCKBASTER – our research with the @bundesbank on the capabilities of #DLT-based #collateralmanagement.… https://t.co/FzNYjkEuNM\nHappy to announce that our post-trade services provider @Clearstream has just received the #CSDR licence for its Ge… https://t.co/j8vBr0YiEv\nRT @stoxx: Today, the World Economic Forum (#WEF20) started in Davos, Switzerland and sustainability is on top of the agenda. Here also #ES…\nDelighted to announce @Clearstream's partnership with @UBS this morning! https://t.co/oYnJ3FfYDB https://t.co/jLhNXvO1o3\nRT @Clearstream: @DeutscheBoerse @EurexGroup 🤔 How are you managing your #SFTR requirements? In our next blog in the lead-up to this year's…\nRT @Clearstream: 🚦 #ReadySetGo Get in the mood for the #GFFSummit (28–30 Jan) with a blog series by colleagues from across @DeutscheBoerse!…\nJust a few days left until this year's #GFFSummit! Are you going to join us? https://t.co/MigykqBwXd\nRT @stoxx: 📑Have a look at our most read article on #PulseOnline in 2019. Spoiler: It is about the #ESG version of our flagship EURO STOXX…\nHappy Birthday, @Clearstream! Our subsidiary turns 50 and that will of course be celebrated extensively throughout… https://t.co/YyMJIK92Ii\nRT @stoxx: 💡 Spotlight on our EURO #STOXX 50 #ESG Index: We caught up with @UBS' Clemens Reuter to hear why responsible investing is on the…\nLet’s get an update of the agenda of this year’s #GFFSummit. Already excited and looking forward to seeing you from… https://t.co/kJoSL1ycrE\nRT @EurexGroup: December rounded off a strong 2019 with yearly volumes up across a number of product segments and areas. OTC #clearing led…\nWelcoming the new year 2020 by taking stock of the past one: These were the most #traded German #stocks in 2019!… https://t.co/eezpKXsvl9\nWith the #NewDecade just around the corner, we’d like to thank our colleagues, customers and partners around the gl… https://t.co/pFaL3d9WKS\n🎅Being #Santa can sometimes be quite exhausting and stressful – no wonder he and his companions lost their hats whi… https://t.co/HhVgdhMlYk\nRT @EurexGroup: Disruption is shaping our industry at an unprecedented pace. How do we prepare for upcoming challenges – and which ones hav…\nStarting the new year with something big: 1 January 2020 we will launch our #instagram channel for a whole new leve… https://t.co/8QwobRgXEt\n2020 is going to have an exciting start: Let’s #SaveTheDate for our annual #GFFSummit, taking place from 28 to 30 J… https://t.co/kIVj0CRBiV\nMay the #financialmarkets expertise be with you! https://t.co/UygsKYoyzf\nSmartly invest your money, you must. Less financial problems, you will have. #BabyYoda #TheMandalorian https://t.co/72rAYuHQCO\nGood news for small and medium-sized enterprises (SMEs): The #Scale segment for SMEs on the Frankfurt Stock Exchang… https://t.co/RSfBHf3qdK\nCongratulations to our @EurexGroup team! 👏 https://t.co/3MeJtXRcfF\nJust a few days since we have announced the start of our #DLT solution for the securities lending market: The… https://t.co/8VP0FiVRCV\nThe year is coming to an end and while we are excited about IPOs that await us in 2020, let’s look back on our #IPO… https://t.co/sJvgaUl2L6\nRT @inside_r3: Check out this recent video testimonial from HQLAx and @DeutscheBoerse discussing their DLT journey with R3 - https://t.co/X…\nRT @EurexGroup: Extending our pioneering role in #ETF #derivatives: we are excited to be the first exchange to launch EUR-denominated #Fixe…\n’Tis the season for… our Trading Charity! Today,  #DeutscheBoerse and the Specialists on the #Frankfurt trading flo… https://t.co/XatjToys8l\nOfficially nominated: Martin Jetter is to succeed Joachim Faber as Chairman of the #DeutscheBörse AG Supervisory Bo… https://t.co/QghpaKGbPP\nProud to be part of it! https://t.co/gvqGKJkqAI\nProud to have achieved a milestone for #DLT implementation in the securities lending market: successful launch of… https://t.co/k31kQAmLBH\nThree successful days of our annual #Eigenkapitalforum where entrepreneurs meet investors – looking back on days fi… https://t.co/xI62fsyLjL\nRT @EurexGroup: We feel honored to have received the “Exchange of the Year” award by @RiskDotNet – a real motivation for the new year! http…\nGreat start of the new #exhibition “New Works. 20 Years of Art Collection Deutsche Börse” of our Photography Founda… https://t.co/A2ZCUZJ5hQ\nRT @EurexGroup: Disruption is shaping our industry at an unprecedented pace. How do we prepare for upcoming challenges – and which ones hav…\n“We need real pensions again”, states #CEO Theodor Weimer. The solution?\nClick here and find out:… https://t.co/dau7YxkIFv\nRT @stoxx: This is quite a step forward: four #STOXX #indices have received a Belgian #sustainability label from @Febelfin. https://t.co/Nj…\nRT @DBVentureNet: The German-language brochure \"Financing growth in Hesse – from Business Angels to IPO\" has been updated and reprinted. A…\nWe proudly announce that together with @Swisscom_de and further partners, we successfully settled securities transa… https://t.co/jcdS35xmlo\nRT @EurexGroup: #Eurex has launched #derivatives futures that enable market participants to hedge their dividend exposure around the globe.…\nRT @stoxx: The #STOXX Europe 600 ESG-X is a simple way of incorporating #ESG criteria into your portfolio. Happy to announce that it’s been…\nYou’ve become curious? Check out all #communication &amp; #marketing #career opportunities on our job wall.… https://t.co/sGaVNGaD7i\nGoing next steps in our #FX unit 360 Trading Networks: New initiatives to foster organic growth.… https://t.co/wBsZLMX7D5\nRT @EurexGroup: In the last part of our video series on #MSCI Dividend Point #Index #Futures, Martino Boffa from McKinley Capital Managemen…\nVisit the last 20th anniversary #Art Collection Deutsche Börse exhibition “New Works” in Eschborn. Stop by on our n… https://t.co/WbOdOYesIs\nFirst day at #SGFintechFestival is done! Our colleagues are looking forward to welcome you again at our booth 4M23… https://t.co/dYLBEbSenc\nWe are already looking forward to #SGFinTechFest next week. Will you join us at the world's largest #fintech festiv… https://t.co/Ec5FkUBatL\nRT @DBVentureNet: @OsborneClarke @DeutscheBoerse @etventure @axelspringer The next #ExpertSession will be held as a #webinar on employee pa…\nOur @EurexGroup team is reporting today live from the #DerivativesForum2019 in London – follow them to stay tuned! https://t.co/PxTZAxtiWN\nRT @Clearstream: 🌱 #SustainableFinance We and our #Cork Climate Working Group are thrilled to have hosted today’s Climate Finance roundtabl…\nProud to announce together with the @TPGallery the shortlist of the Deutsche Börse Photography Foundation Prize 202… https://t.co/O8MzT1Tzef\nLet's start the new month with figures from the previous: Our #cashmarkets achieved a turnover of 135.4 billion eur… https://t.co/IC57ftlHCX\nRT @DBVentureNet: “The dimensions in which China thinks in terms of property and technology are much larger than in our European home marke…\n@boersefrankfurt @FAZ_NET Continuing with some more impressions and information on our #OpeningBell ceremony this m… https://t.co/fZSN5Unm92\nCelebration time at our @boersefrankfurt trading floor today: We are ringing the #OpeningBell for 70 years of… https://t.co/ITpQ5EMjl0\nWay ahead: @EurexGroup is going one further step in the partnership with @MSCI_Inc. https://t.co/74yzJB2SRr\nRT @stoxx: 🌊#MakingWaves: Lots of human waste and pollution sadly ends up in the ocean. Our new #index tracks best #sustainable water and c…\nNext up in our #SettledIn series: Clarisse Detrait. Started as an intern, going then through several positions in o… https://t.co/cDKPo0Bb6B\nOutlook confirmed – and we are still growing. Proud to announce our numbers for Q3/2019. More in our press release:… https://t.co/X6r8e20Zth\n@Clearstream #internship Vestima delivers a suite of investment fund services supporting the cross-border distribut… https://t.co/yLbtcwyT4K\nSearching for the perfect #internship to best complete his studies, Nicola´s decision fell on our subsidiary… https://t.co/PbCgDzApJ1\nAfter attending this year’s Global Investment Strategy Forum in Singapore, Willem Keogh, @stoxx´s Head of ESG, Them… https://t.co/5DoVJ4qLbU\nContinuing with good news from #EurexClearing: the next step in our #FX strategy. https://t.co/pB1BnmSRRs\nFree execution for #ETF savings plans: We support long-term diversified equity savings for private investors by now… https://t.co/mDhKxOokcv\nPhotography meets film: New cooperation of our Deutsche Börse Photography Foundation and the @dff_film kicking of w… https://t.co/JYSUqseyET\nNext step for our Deutsche Börse Buy-in Agent Service, which will offer market participants an automated and standa… https://t.co/DdMdLTXaPG\nProud to announce we have reached a further step in examining the scope of #DLT! Together with @commerzbank and MEA… https://t.co/fr2eUnZuIQ\nThe topic of #oldageprovision is present everywhere - and so it is the main topic of our today’s #ETFforum in Frank… https://t.co/N4Q0kCWXQK\nWith today´s launch of #ESG options, @EurexGroup brings the issue of #sustainability and the financial industry clo… https://t.co/6jIKwFIFBW\nJoin tomorrows #career fair at the @HochschuleTrier to start your very special career at @Clearstream! https://t.co/sNymjVuGba\nBernard Tancré, Head of Investment Fund Services at @Clearstream, gives insights into last week´s #FundSummit in Lu… https://t.co/2blKPAZEvU\nProud to have been part of the World Financial Information Conference #WFIC in Vancouver, Canada. Deutsche Börse He… https://t.co/Wa0zfBJmHa\n🇩🇪Vielen Dank an alle #sfgd2019 Teilnehmer für den transparenten Austausch. Wir freuen uns auf die nächsten gemeins… https://t.co/lkqZb6EJRW\n🇩🇪 Nächster Agendapunkt #sfgd2019: Vorstellung der Wissenschaftsplattform des #sustainablefinance-Beirats der Bunde… https://t.co/chuKxiobbS\n🇩🇪Breakout Session zu #sustainablefinance Strategie und Kommunikation mit @KristinaJeromin und Matthias Kopp vom… https://t.co/y8Lhc8vhip\n🇩🇪@KristinaJeromin eröffnet den #sfgd2019. Folgen Sie dem #sustainablefinance Livestream über… https://t.co/HNdF7bMmdS\n🇩🇪 Wir freuen uns! #sfgd2019 https://t.co/nDiWZKzuOP\nRT @gsfcg: Auf dem morgigen Sustainable Finance Gipfel möchten wir die Entwicklung der #sustainablefinance-Strategie transparent und unter…\nJana Rieger started working with us as a #student assistant and is now, as part of our @CashMarket_ team, supportin… https://t.co/IOhaCrdwnB\nIn einer Stunde ist es soweit – Im #Webinar führt Sie @eddavogt in zehn Schritten zum passenden #ETF Sparplan. https://t.co/k7WnzdUxDa\nA step to Asia, new partnerships and new training strategies – our @DBVentureNet continues to develop. All about it… https://t.co/Xd2DqCmEpo\n#Sustainability is becoming an increasingly important issue for “future-proofing” capital markets worldwide. In an… https://t.co/SEaWuJeEU6\n🇩🇪 Starten Sie Ihre #Karriere bei uns: Als #Praktikant (w/m/d) im Bereich #CorporateDesign erwarten Sie Logos, Anze… https://t.co/Q7wFhjMTFN\nRT @boersefrankfurt: Morgen ist Börsentag in Berlin. Wir werden auch da sein und freuen uns über Ihren Besuch. Unsere Vorträge: 11 Uhr spri…\nRT @DBVentureNet: When it comes to preparing for the capital market we’ve got you covered. Check out the article and video below or our Roa…\nToday @Clearstream will host its 16th edition of the #FundSummit! Our colleagues in #Luxembourg take you through th… https://t.co/11S72fQKgY\nRT @EurexGroup: This week, we launched #Equity Total Return #Futures (ETRFs) as well as a functionality supporting basket trades of ETRFs.…\n🇩🇪 Die @DeutscheBoerse geht mit ihrer Seminar-Reihe in die nächste Runde: Über die Capital Markets Academy können P… https://t.co/FjS1my202a\nWe are setting a milestone for our #cloud usage: Christoph Böhm, Member of the Executive Board of Deutsche Börse AG… https://t.co/q5FskHy1SF\nToday we are going to drink our “Coffee with…” Cord Gebhardt.  Being a board member of the #Frankfurt #Stock Exchan… https://t.co/9GapCpgZnW\nRT @EurexGroup: We continue to boost #futurization: our new Total Return #Futures on single equities complement our suite of #equity #index…\nThe integration of #GTX Electronic Communications Network in our #FX unit #360T created one of the largest and most… https://t.co/YcsX29Je7n\nRT @eexgroup: How can #Commodity #Exchanges add value in an increasingly competitive marketplace? In Eps. 2 of \"Talking OTC Commodities\", #…\nNext up in our series “#Internviews” is Leanne Smyth from #Cork who was an intern at our subsidiary @Clearstream. R… https://t.co/4zjK2bQZ4g\nDecentralised market infrastructure – the future of #financialmarkets? That is what we discussed together with expe… https://t.co/qSuEXjAx8R\n.@EurexGroup will launch the first exchange-traded #ESG #options: https://t.co/YHXhSpFtNW\n"
    }
   ],
   "source": [
    "for i in tweets:\n",
    "    print(i.text)"
   ]
  },
  {
   "cell_type": "code",
   "execution_count": 25,
   "metadata": {},
   "outputs": [],
   "source": [
    "import pandas as pd\n",
    "def timeline_df(tweets):\n",
    "    idler = [tweet.id for tweet in tweets]\n",
    "    df = pd.DataFrame(idler, columns = [\"id\"])\n",
    "\n",
    "    df[\"id\"] = list(map(lambda tweet: tweet.id,tweets))\n",
    "    df[\"created_at\"] = [tweet.created_at for tweet in tweets]\n",
    "    df[\"text\"] = [tweet.text for tweet in tweets]\n",
    "    df[\"retweeted\"] = list(map(lambda tweet: tweet.retweeted, tweets))\n",
    "    df[\"favorite_count\"] = [tweet.favorite_count for tweet in tweets]\n",
    "    df[\"retweet_count\"] = [tweet.retweet_count for tweet in tweets]\n",
    "    df[\"source\"] = [tweet.source for tweet in tweets]\n",
    "    df[\"location\"] = [tweet.author.location for tweet in tweets]\n",
    "    df[\"screen_name\"] = [tweet.author.screen_name for tweet in tweets]\n",
    "\n",
    "    return df"
   ]
  },
  {
   "cell_type": "code",
   "execution_count": 27,
   "metadata": {},
   "outputs": [],
   "source": [
    "h = timeline_df(tweets)"
   ]
  },
  {
   "cell_type": "code",
   "execution_count": 29,
   "metadata": {},
   "outputs": [
    {
     "output_type": "execute_result",
     "data": {
      "text/plain": "                      id          created_at  \\\n134  1201792222338924545 2019-12-03 09:16:08   \n142  1196733843975204865 2019-11-19 10:15:57   \n198  1179414375570067464 2019-10-02 15:14:34   \n179  1184366754837024775 2019-10-16 07:13:33   \n23   1267348557490728960 2020-06-01 06:53:36   \n\n                                                  text  retweeted  \\\n134  Proud to have achieved a milestone for #DLT im...      False   \n142  We proudly announce that together with @Swissc...      False   \n198  Decentralised market infrastructure – the futu...      False   \n179  🇩🇪@KristinaJeromin eröffnet den #sfgd2019. Fol...      False   \n23   Wishing our customers and colleagues, their fr...      False   \n\n     favorite_count  retweet_count              source   location  \\\n134              60             33     Twitter Web App  Worldwide   \n142              25              4     Twitter Web App  Worldwide   \n198              18             10  Twitter Web Client  Worldwide   \n179              18              3  Twitter for iPhone  Worldwide   \n23               16              5     Twitter Web App  Worldwide   \n\n        screen_name  \n134  DeutscheBoerse  \n142  DeutscheBoerse  \n198  DeutscheBoerse  \n179  DeutscheBoerse  \n23   DeutscheBoerse  ",
      "text/html": "<div>\n<style scoped>\n    .dataframe tbody tr th:only-of-type {\n        vertical-align: middle;\n    }\n\n    .dataframe tbody tr th {\n        vertical-align: top;\n    }\n\n    .dataframe thead th {\n        text-align: right;\n    }\n</style>\n<table border=\"1\" class=\"dataframe\">\n  <thead>\n    <tr style=\"text-align: right;\">\n      <th></th>\n      <th>id</th>\n      <th>created_at</th>\n      <th>text</th>\n      <th>retweeted</th>\n      <th>favorite_count</th>\n      <th>retweet_count</th>\n      <th>source</th>\n      <th>location</th>\n      <th>screen_name</th>\n    </tr>\n  </thead>\n  <tbody>\n    <tr>\n      <th>134</th>\n      <td>1201792222338924545</td>\n      <td>2019-12-03 09:16:08</td>\n      <td>Proud to have achieved a milestone for #DLT im...</td>\n      <td>False</td>\n      <td>60</td>\n      <td>33</td>\n      <td>Twitter Web App</td>\n      <td>Worldwide</td>\n      <td>DeutscheBoerse</td>\n    </tr>\n    <tr>\n      <th>142</th>\n      <td>1196733843975204865</td>\n      <td>2019-11-19 10:15:57</td>\n      <td>We proudly announce that together with @Swissc...</td>\n      <td>False</td>\n      <td>25</td>\n      <td>4</td>\n      <td>Twitter Web App</td>\n      <td>Worldwide</td>\n      <td>DeutscheBoerse</td>\n    </tr>\n    <tr>\n      <th>198</th>\n      <td>1179414375570067464</td>\n      <td>2019-10-02 15:14:34</td>\n      <td>Decentralised market infrastructure – the futu...</td>\n      <td>False</td>\n      <td>18</td>\n      <td>10</td>\n      <td>Twitter Web Client</td>\n      <td>Worldwide</td>\n      <td>DeutscheBoerse</td>\n    </tr>\n    <tr>\n      <th>179</th>\n      <td>1184366754837024775</td>\n      <td>2019-10-16 07:13:33</td>\n      <td>🇩🇪@KristinaJeromin eröffnet den #sfgd2019. Fol...</td>\n      <td>False</td>\n      <td>18</td>\n      <td>3</td>\n      <td>Twitter for iPhone</td>\n      <td>Worldwide</td>\n      <td>DeutscheBoerse</td>\n    </tr>\n    <tr>\n      <th>23</th>\n      <td>1267348557490728960</td>\n      <td>2020-06-01 06:53:36</td>\n      <td>Wishing our customers and colleagues, their fr...</td>\n      <td>False</td>\n      <td>16</td>\n      <td>5</td>\n      <td>Twitter Web App</td>\n      <td>Worldwide</td>\n      <td>DeutscheBoerse</td>\n    </tr>\n  </tbody>\n</table>\n</div>"
     },
     "metadata": {},
     "execution_count": 29
    }
   ],
   "source": [
    "h.sort_values(\"favorite_count\", ascending = False).head()"
   ]
  },
  {
   "cell_type": "code",
   "execution_count": 31,
   "metadata": {},
   "outputs": [
    {
     "output_type": "execute_result",
     "data": {
      "text/plain": "                      id          created_at  \\\n129  1204290625673277445 2019-12-10 06:43:54   \n134  1201792222338924545 2019-12-03 09:16:08   \n65   1239973210453463040 2020-03-17 17:53:45   \n66   1239885143864741893 2020-03-17 12:03:48   \n198  1179414375570067464 2019-10-02 15:14:34   \n\n                                                  text  retweeted  \\\n129  RT @inside_r3: Check out this recent video tes...      False   \n134  Proud to have achieved a milestone for #DLT im...      False   \n65   RT @FESEBrussels: See our latest press release...      False   \n66   We have no plans of market closure. Quite the ...      False   \n198  Decentralised market infrastructure – the futu...      False   \n\n     favorite_count  retweet_count              source   location  \\\n129               0             35  Twitter for iPhone  Worldwide   \n134              60             33     Twitter Web App  Worldwide   \n65                0             20  Twitter for iPhone  Worldwide   \n66               11             11     Twitter Web App  Worldwide   \n198              18             10  Twitter Web Client  Worldwide   \n\n        screen_name  \n129  DeutscheBoerse  \n134  DeutscheBoerse  \n65   DeutscheBoerse  \n66   DeutscheBoerse  \n198  DeutscheBoerse  ",
      "text/html": "<div>\n<style scoped>\n    .dataframe tbody tr th:only-of-type {\n        vertical-align: middle;\n    }\n\n    .dataframe tbody tr th {\n        vertical-align: top;\n    }\n\n    .dataframe thead th {\n        text-align: right;\n    }\n</style>\n<table border=\"1\" class=\"dataframe\">\n  <thead>\n    <tr style=\"text-align: right;\">\n      <th></th>\n      <th>id</th>\n      <th>created_at</th>\n      <th>text</th>\n      <th>retweeted</th>\n      <th>favorite_count</th>\n      <th>retweet_count</th>\n      <th>source</th>\n      <th>location</th>\n      <th>screen_name</th>\n    </tr>\n  </thead>\n  <tbody>\n    <tr>\n      <th>129</th>\n      <td>1204290625673277445</td>\n      <td>2019-12-10 06:43:54</td>\n      <td>RT @inside_r3: Check out this recent video tes...</td>\n      <td>False</td>\n      <td>0</td>\n      <td>35</td>\n      <td>Twitter for iPhone</td>\n      <td>Worldwide</td>\n      <td>DeutscheBoerse</td>\n    </tr>\n    <tr>\n      <th>134</th>\n      <td>1201792222338924545</td>\n      <td>2019-12-03 09:16:08</td>\n      <td>Proud to have achieved a milestone for #DLT im...</td>\n      <td>False</td>\n      <td>60</td>\n      <td>33</td>\n      <td>Twitter Web App</td>\n      <td>Worldwide</td>\n      <td>DeutscheBoerse</td>\n    </tr>\n    <tr>\n      <th>65</th>\n      <td>1239973210453463040</td>\n      <td>2020-03-17 17:53:45</td>\n      <td>RT @FESEBrussels: See our latest press release...</td>\n      <td>False</td>\n      <td>0</td>\n      <td>20</td>\n      <td>Twitter for iPhone</td>\n      <td>Worldwide</td>\n      <td>DeutscheBoerse</td>\n    </tr>\n    <tr>\n      <th>66</th>\n      <td>1239885143864741893</td>\n      <td>2020-03-17 12:03:48</td>\n      <td>We have no plans of market closure. Quite the ...</td>\n      <td>False</td>\n      <td>11</td>\n      <td>11</td>\n      <td>Twitter Web App</td>\n      <td>Worldwide</td>\n      <td>DeutscheBoerse</td>\n    </tr>\n    <tr>\n      <th>198</th>\n      <td>1179414375570067464</td>\n      <td>2019-10-02 15:14:34</td>\n      <td>Decentralised market infrastructure – the futu...</td>\n      <td>False</td>\n      <td>18</td>\n      <td>10</td>\n      <td>Twitter Web Client</td>\n      <td>Worldwide</td>\n      <td>DeutscheBoerse</td>\n    </tr>\n  </tbody>\n</table>\n</div>"
     },
     "metadata": {},
     "execution_count": 31
    }
   ],
   "source": [
    "h.sort_values(\"retweet_count\", ascending = False).head()"
   ]
  },
  {
   "cell_type": "code",
   "execution_count": 33,
   "metadata": {},
   "outputs": [
    {
     "output_type": "execute_result",
     "data": {
      "text/plain": "                                                  text  favorite_count\n129  RT @inside_r3: Check out this recent video tes...               0\n134  Proud to have achieved a milestone for #DLT im...              60\n65   RT @FESEBrussels: See our latest press release...               0\n66   We have no plans of market closure. Quite the ...              11\n198  Decentralised market infrastructure – the futu...              18",
      "text/html": "<div>\n<style scoped>\n    .dataframe tbody tr th:only-of-type {\n        vertical-align: middle;\n    }\n\n    .dataframe tbody tr th {\n        vertical-align: top;\n    }\n\n    .dataframe thead th {\n        text-align: right;\n    }\n</style>\n<table border=\"1\" class=\"dataframe\">\n  <thead>\n    <tr style=\"text-align: right;\">\n      <th></th>\n      <th>text</th>\n      <th>favorite_count</th>\n    </tr>\n  </thead>\n  <tbody>\n    <tr>\n      <th>129</th>\n      <td>RT @inside_r3: Check out this recent video tes...</td>\n      <td>0</td>\n    </tr>\n    <tr>\n      <th>134</th>\n      <td>Proud to have achieved a milestone for #DLT im...</td>\n      <td>60</td>\n    </tr>\n    <tr>\n      <th>65</th>\n      <td>RT @FESEBrussels: See our latest press release...</td>\n      <td>0</td>\n    </tr>\n    <tr>\n      <th>66</th>\n      <td>We have no plans of market closure. Quite the ...</td>\n      <td>11</td>\n    </tr>\n    <tr>\n      <th>198</th>\n      <td>Decentralised market infrastructure – the futu...</td>\n      <td>18</td>\n    </tr>\n  </tbody>\n</table>\n</div>"
     },
     "metadata": {},
     "execution_count": 33
    }
   ],
   "source": [
    "h.sort_values(\"retweet_count\", ascending = False)[[\"text\",\"favorite_count\"\n",
    "]].head()"
   ]
  },
  {
   "cell_type": "code",
   "execution_count": null,
   "metadata": {},
   "outputs": [],
   "source": []
  },
  {
   "cell_type": "code",
   "execution_count": 35,
   "metadata": {},
   "outputs": [],
   "source": [
    "%config InlineBackend.figure_format = \"retina\"\n",
    "import seaborn as sns\n",
    "import matplotlib.pyplot as plt"
   ]
  },
  {
   "cell_type": "code",
   "execution_count": 37,
   "metadata": {},
   "outputs": [
    {
     "output_type": "execute_result",
     "data": {
      "text/plain": "(10, 65)"
     },
     "metadata": {},
     "execution_count": 37
    },
    {
     "output_type": "display_data",
     "data": {
      "text/plain": "<Figure size 432x288 with 1 Axes>",
      "image/png": "[encoded data removed]"
     },
     "metadata": {
      "image/png": {
       "width": 375,
       "height": 262
      },
      "needs_background": "light"
     }
    }
   ],
   "source": [
    "sns.distplot(h.favorite_count, kde=False, color = \"blue\"); #favorite counts\n",
    "plt.xlim(10,65)"
   ]
  },
  {
   "cell_type": "code",
   "execution_count": 39,
   "metadata": {},
   "outputs": [
    {
     "output_type": "execute_result",
     "data": {
      "text/plain": "(0, 40)"
     },
     "metadata": {},
     "execution_count": 39
    },
    {
     "output_type": "display_data",
     "data": {
      "text/plain": "<Figure size 432x288 with 1 Axes>",
      "image/png": "[encoded data removed]"
     },
     "metadata": {
      "image/png": {
       "width": 385,
       "height": 264
      },
      "needs_background": "light"
     }
    }
   ],
   "source": [
    "sns.distplot(h.retweet_count, color = \"blue\") #how many retweet dbg gets\n",
    "plt.xlim(00,40)"
   ]
  },
  {
   "cell_type": "code",
   "execution_count": 41,
   "metadata": {},
   "outputs": [],
   "source": [
    "h[\"tweet_saat\"] = h[\"created_at\"].apply(lambda x: x.strftime(\"%H\")) ##which hours the account send tweets"
   ]
  },
  {
   "cell_type": "code",
   "execution_count": 43,
   "metadata": {
    "tags": []
   },
   "outputs": [
    {
     "output_type": "stream",
     "name": "stdout",
     "text": "<class 'pandas.core.frame.DataFrame'>\nRangeIndex: 200 entries, 0 to 199\nData columns (total 10 columns):\n #   Column          Non-Null Count  Dtype         \n---  ------          --------------  -----         \n 0   id              200 non-null    int64         \n 1   created_at      200 non-null    datetime64[ns]\n 2   text            200 non-null    object        \n 3   retweeted       200 non-null    bool          \n 4   favorite_count  200 non-null    int64         \n 5   retweet_count   200 non-null    int64         \n 6   source          200 non-null    object        \n 7   location        200 non-null    object        \n 8   screen_name     200 non-null    object        \n 9   tweet_saat      200 non-null    int64         \ndtypes: bool(1), datetime64[ns](1), int64(4), object(4)\nmemory usage: 14.4+ KB\n"
    }
   ],
   "source": [
    "h[\"tweet_saat\"] = pd.to_numeric(h[\"tweet_saat\"])\n",
    "h.info()"
   ]
  },
  {
   "cell_type": "markdown",
   "metadata": {},
   "source": [
    "# Which hours DBG generally tweets"
   ]
  },
  {
   "cell_type": "code",
   "execution_count": 45,
   "metadata": {},
   "outputs": [
    {
     "output_type": "execute_result",
     "data": {
      "text/plain": "(0, 24)"
     },
     "metadata": {},
     "execution_count": 45
    },
    {
     "output_type": "display_data",
     "data": {
      "text/plain": "<Figure size 432x288 with 1 Axes>",
      "image/png": "[encoded data removed]"
     },
     "metadata": {
      "image/png": {
       "width": 369,
       "height": 261
      },
      "needs_background": "light"
     }
    }
   ],
   "source": [
    "sns.distplot(h.tweet_saat,kde = False,color = \"red\",kde_kws={\"color\": \"k\", \"lw\": 3, \"label\": \"KDE\"}) # Looks like around 12-15\n",
    "plt.xlim(00,24)\n"
   ]
  },
  {
   "cell_type": "code",
   "execution_count": 132,
   "metadata": {},
   "outputs": [],
   "source": [
    "h[\"days\"] = h[\"created_at\"].dt.weekday"
   ]
  },
  {
   "cell_type": "code",
   "execution_count": 143,
   "metadata": {},
   "outputs": [],
   "source": [
    "h.days.replace([0, 1], [\"monday\", \"tuesday\"], inplace=True)\n",
    "h.days.replace([2, 3], [\"wednesday\", \"thursday\"], inplace=True)\n",
    "h.days.replace([4, 5], [\"friday\", \"saturday\"], inplace=True)\n",
    "h.days.replace([6], [\"sunday\"], inplace=True)"
   ]
  },
  {
   "cell_type": "code",
   "execution_count": 144,
   "metadata": {},
   "outputs": [
    {
     "output_type": "execute_result",
     "data": {
      "text/plain": "                    id          created_at  \\\n0  1278226201019105281 2020-07-01 07:17:29   \n1  1276133595988594694 2020-06-25 12:42:13   \n2  1275814502546759681 2020-06-24 15:34:15   \n3  1275059211450212354 2020-06-22 13:33:00   \n4  1273199156543328256 2020-06-17 10:21:48   \n\n                                                text  retweeted  \\\n0  As #Germany is taking over the EU Council’s pr...      False   \n1  RT @EurexGroup: We’re delighted to announce th...      False   \n2  RT @EurexGroup: We warmly welcome Tammo Diemer...      False   \n3  As of 1 July, Deutsche Börse Data Services is ...      False   \n4  @EurexGroup clears the first interest rate swa...      False   \n\n   favorite_count  retweet_count           source   location     screen_name  \\\n0               7              1  Twitter Web App  Worldwide  DeutscheBoerse   \n1               0              4  Twitter Web App  Worldwide  DeutscheBoerse   \n2               0              2  Twitter Web App  Worldwide  DeutscheBoerse   \n3               2              0  Twitter Web App  Worldwide  DeutscheBoerse   \n4               1              1  Twitter Web App  Worldwide  DeutscheBoerse   \n\n   tweet_saat     gunler       days  \n0           7  wednesday  wednesday  \n1          12   thursday   thursday  \n2          15  wednesday  wednesday  \n3          13     monday     monday  \n4          10  wednesday  wednesday  ",
      "text/html": "<div>\n<style scoped>\n    .dataframe tbody tr th:only-of-type {\n        vertical-align: middle;\n    }\n\n    .dataframe tbody tr th {\n        vertical-align: top;\n    }\n\n    .dataframe thead th {\n        text-align: right;\n    }\n</style>\n<table border=\"1\" class=\"dataframe\">\n  <thead>\n    <tr style=\"text-align: right;\">\n      <th></th>\n      <th>id</th>\n      <th>created_at</th>\n      <th>text</th>\n      <th>retweeted</th>\n      <th>favorite_count</th>\n      <th>retweet_count</th>\n      <th>source</th>\n      <th>location</th>\n      <th>screen_name</th>\n      <th>tweet_saat</th>\n      <th>gunler</th>\n      <th>days</th>\n    </tr>\n  </thead>\n  <tbody>\n    <tr>\n      <th>0</th>\n      <td>1278226201019105281</td>\n      <td>2020-07-01 07:17:29</td>\n      <td>As #Germany is taking over the EU Council’s pr...</td>\n      <td>False</td>\n      <td>7</td>\n      <td>1</td>\n      <td>Twitter Web App</td>\n      <td>Worldwide</td>\n      <td>DeutscheBoerse</td>\n      <td>7</td>\n      <td>wednesday</td>\n      <td>wednesday</td>\n    </tr>\n    <tr>\n      <th>1</th>\n      <td>1276133595988594694</td>\n      <td>2020-06-25 12:42:13</td>\n      <td>RT @EurexGroup: We’re delighted to announce th...</td>\n      <td>False</td>\n      <td>0</td>\n      <td>4</td>\n      <td>Twitter Web App</td>\n      <td>Worldwide</td>\n      <td>DeutscheBoerse</td>\n      <td>12</td>\n      <td>thursday</td>\n      <td>thursday</td>\n    </tr>\n    <tr>\n      <th>2</th>\n      <td>1275814502546759681</td>\n      <td>2020-06-24 15:34:15</td>\n      <td>RT @EurexGroup: We warmly welcome Tammo Diemer...</td>\n      <td>False</td>\n      <td>0</td>\n      <td>2</td>\n      <td>Twitter Web App</td>\n      <td>Worldwide</td>\n      <td>DeutscheBoerse</td>\n      <td>15</td>\n      <td>wednesday</td>\n      <td>wednesday</td>\n    </tr>\n    <tr>\n      <th>3</th>\n      <td>1275059211450212354</td>\n      <td>2020-06-22 13:33:00</td>\n      <td>As of 1 July, Deutsche Börse Data Services is ...</td>\n      <td>False</td>\n      <td>2</td>\n      <td>0</td>\n      <td>Twitter Web App</td>\n      <td>Worldwide</td>\n      <td>DeutscheBoerse</td>\n      <td>13</td>\n      <td>monday</td>\n      <td>monday</td>\n    </tr>\n    <tr>\n      <th>4</th>\n      <td>1273199156543328256</td>\n      <td>2020-06-17 10:21:48</td>\n      <td>@EurexGroup clears the first interest rate swa...</td>\n      <td>False</td>\n      <td>1</td>\n      <td>1</td>\n      <td>Twitter Web App</td>\n      <td>Worldwide</td>\n      <td>DeutscheBoerse</td>\n      <td>10</td>\n      <td>wednesday</td>\n      <td>wednesday</td>\n    </tr>\n  </tbody>\n</table>\n</div>"
     },
     "metadata": {},
     "execution_count": 144
    }
   ],
   "source": [
    "h.head()"
   ]
  },
  {
   "cell_type": "code",
   "execution_count": 145,
   "metadata": {},
   "outputs": [],
   "source": [
    "day_freq=h.groupby(\"days\").count()[\"id\"]"
   ]
  },
  {
   "cell_type": "markdown",
   "metadata": {},
   "source": [
    "# Which days DBG account send tweets"
   ]
  },
  {
   "cell_type": "code",
   "execution_count": 146,
   "metadata": {},
   "outputs": [
    {
     "output_type": "execute_result",
     "data": {
      "text/plain": "<matplotlib.axes._subplots.AxesSubplot at 0x1a4cdbff1d0>"
     },
     "metadata": {},
     "execution_count": 146
    },
    {
     "output_type": "display_data",
     "data": {
      "text/plain": "<Figure size 432x288 with 1 Axes>",
      "image/png": "[encoded data removed]"
     },
     "metadata": {
      "image/png": {
       "width": 369,
       "height": 309
      },
      "needs_background": "light"
     }
    }
   ],
   "source": [
    "day_freq.plot.bar(x = \"days\", y = \"id\")  "
   ]
  },
  {
   "cell_type": "code",
   "execution_count": 57,
   "metadata": {},
   "outputs": [
    {
     "output_type": "execute_result",
     "data": {
      "text/plain": "<matplotlib.axes._subplots.AxesSubplot at 0x1a4cb030be0>"
     },
     "metadata": {},
     "execution_count": 57
    },
    {
     "output_type": "display_data",
     "data": {
      "text/plain": "<Figure size 432x288 with 1 Axes>",
      "image/png": "[encoded data removed]"
     },
     "metadata": {
      "image/png": {
       "width": 375,
       "height": 356
      },
      "needs_background": "light"
     }
    }
   ],
   "source": [
    "source_freq = h.groupby(\"source\").count()[\"id\"]\n",
    "\n",
    "source_freq.plot.bar()"
   ]
  },
  {
   "cell_type": "code",
   "execution_count": 59,
   "metadata": {},
   "outputs": [],
   "source": [
    "#h.groupby([\"source\",\"tweet_saat\",\"gunler\"])[[\"tweet_saat\"]].count().head(50)"
   ]
  },
  {
   "cell_type": "code",
   "execution_count": null,
   "metadata": {},
   "outputs": [],
   "source": []
  },
  {
   "cell_type": "markdown",
   "metadata": {},
   "source": [
    "## Which followers or friends are more active for DBG"
   ]
  },
  {
   "cell_type": "code",
   "execution_count": 61,
   "metadata": {},
   "outputs": [],
   "source": [
    "dbg = api.get_user(id = \"DeutscheBoerse\", count = 350, request_type = \"recent\")"
   ]
  },
  {
   "cell_type": "code",
   "execution_count": 63,
   "metadata": {
    "tags": []
   },
   "outputs": [
    {
     "output_type": "stream",
     "name": "stdout",
     "text": "LeeChongg\nvivekvarma427\nagentur_z\nKelvyTapia\ndavidh_23\nBardnet\nReneGutzmann\nMatthia61038367\nedgars83656365\nKrew376\nvannakkol\nbertbondnet\ntrapp_ma\nFlo_bckr\nhamed01670699\nGilcaValentino\nJohntrad23\nechtes\nzitnikv\nLucaJoHaerms\n"
    }
   ],
   "source": [
    "for friend in dbg.followers():\n",
    "    print(friend.screen_name)"
   ]
  },
  {
   "cell_type": "code",
   "execution_count": 108,
   "metadata": {},
   "outputs": [],
   "source": [
    "friends = dbg.friends()\n",
    "followers=dbg.followers()"
   ]
  },
  {
   "cell_type": "code",
   "execution_count": 67,
   "metadata": {},
   "outputs": [],
   "source": [
    "import pandas as pd\n",
    "def followers_df(takipci):\n",
    "    idler = [kisi.id for kisi in takipci]\n",
    "    fl = pd.DataFrame(idler, columns = [\"id\"])\n",
    "\n",
    "    fl[\"screen_name\"] = [kisi.screen_name for kisi in takipci]\n",
    "    fl[\"created_at\"] = [kisi.created_at for kisi in takipci]\n",
    "    fl[\"followers_count\"] = [kisi.followers_count for kisi in takipci]\n",
    "    fl[\"statutes_count\"] = [kisi.statuses_count for  kisi in takipci]\n",
    "    fl[\"favorite_count\"] = [kisi.favourites_count for kisi in takipci]\n",
    "    fl[\"friends_count\"] = [kisi.friends_count for kisi in takipci]\n",
    "    fl[\"location\"] = [kisi.location for kisi in takipci]\n",
    "\n",
    "    return fl"
   ]
  },
  {
   "cell_type": "code",
   "execution_count": 109,
   "metadata": {},
   "outputs": [],
   "source": [
    "flw_dbg = followers_df(followers)"
   ]
  },
  {
   "cell_type": "code",
   "execution_count": 110,
   "metadata": {},
   "outputs": [
    {
     "output_type": "execute_result",
     "data": {
      "text/plain": "                    id    screen_name          created_at  followers_count  \\\n0            287670077      LeeChongg 2011-04-25 13:11:56               68   \n1            289863716  vivekvarma427 2011-04-29 10:32:00                7   \n2  1278985806166753282      agentur_z 2020-07-03 09:36:09                0   \n3            316753685     KelvyTapia 2011-06-13 22:37:58               92   \n4            456093537      davidh_23 2012-01-05 21:30:39              287   \n\n   statutes_count  favorite_count  friends_count            location  \n0             683               6             81                      \n1             159             203            304       Gujarat,india  \n2               0               0              9                      \n3             123            9020           1722  Dominican Republic  \n4              90             190           1546                      ",
      "text/html": "<div>\n<style scoped>\n    .dataframe tbody tr th:only-of-type {\n        vertical-align: middle;\n    }\n\n    .dataframe tbody tr th {\n        vertical-align: top;\n    }\n\n    .dataframe thead th {\n        text-align: right;\n    }\n</style>\n<table border=\"1\" class=\"dataframe\">\n  <thead>\n    <tr style=\"text-align: right;\">\n      <th></th>\n      <th>id</th>\n      <th>screen_name</th>\n      <th>created_at</th>\n      <th>followers_count</th>\n      <th>statutes_count</th>\n      <th>favorite_count</th>\n      <th>friends_count</th>\n      <th>location</th>\n    </tr>\n  </thead>\n  <tbody>\n    <tr>\n      <th>0</th>\n      <td>287670077</td>\n      <td>LeeChongg</td>\n      <td>2011-04-25 13:11:56</td>\n      <td>68</td>\n      <td>683</td>\n      <td>6</td>\n      <td>81</td>\n      <td></td>\n    </tr>\n    <tr>\n      <th>1</th>\n      <td>289863716</td>\n      <td>vivekvarma427</td>\n      <td>2011-04-29 10:32:00</td>\n      <td>7</td>\n      <td>159</td>\n      <td>203</td>\n      <td>304</td>\n      <td>Gujarat,india</td>\n    </tr>\n    <tr>\n      <th>2</th>\n      <td>1278985806166753282</td>\n      <td>agentur_z</td>\n      <td>2020-07-03 09:36:09</td>\n      <td>0</td>\n      <td>0</td>\n      <td>0</td>\n      <td>9</td>\n      <td></td>\n    </tr>\n    <tr>\n      <th>3</th>\n      <td>316753685</td>\n      <td>KelvyTapia</td>\n      <td>2011-06-13 22:37:58</td>\n      <td>92</td>\n      <td>123</td>\n      <td>9020</td>\n      <td>1722</td>\n      <td>Dominican Republic</td>\n    </tr>\n    <tr>\n      <th>4</th>\n      <td>456093537</td>\n      <td>davidh_23</td>\n      <td>2012-01-05 21:30:39</td>\n      <td>287</td>\n      <td>90</td>\n      <td>190</td>\n      <td>1546</td>\n      <td></td>\n    </tr>\n  </tbody>\n</table>\n</div>"
     },
     "metadata": {},
     "execution_count": 110
    }
   ],
   "source": [
    "flw_dbg.head()"
   ]
  },
  {
   "cell_type": "code",
   "execution_count": 111,
   "metadata": {},
   "outputs": [
    {
     "output_type": "execute_result",
     "data": {
      "text/plain": "(20, 8)"
     },
     "metadata": {},
     "execution_count": 111
    }
   ],
   "source": [
    "flw_dbg.shape"
   ]
  },
  {
   "cell_type": "code",
   "execution_count": 112,
   "metadata": {},
   "outputs": [
    {
     "output_type": "execute_result",
     "data": {
      "text/plain": "                                  50.0\n🇲🇽🇩🇪🏴󠁧🇬🇧🌐WORLDWIDEWEB              5.0\nPhnom Penh,Cambodia.               5.0\nBrno, Czech Republic               5.0\nGujarat,india                      5.0\nHamburg, Deutschland               5.0\nMannheim, Germany                  5.0\nDeutschland                        5.0\nvienna                             5.0\nDominican Republic                 5.0\nFürstenwalde/Spree, Deutschlan     5.0\nName: location, dtype: float64"
     },
     "metadata": {},
     "execution_count": 112
    }
   ],
   "source": [
    "flw_dbg[\"location\"].value_counts(normalize= True)*100"
   ]
  },
  {
   "cell_type": "code",
   "execution_count": 113,
   "metadata": {},
   "outputs": [],
   "source": [
    "aa= flw_dbg.groupby(\"location\").count()[\"followers_count\"]"
   ]
  },
  {
   "cell_type": "code",
   "execution_count": 114,
   "metadata": {},
   "outputs": [
    {
     "output_type": "execute_result",
     "data": {
      "text/plain": "                 friends_count\nscreen_name                   \nBardnet                   3279\nFlo_bckr                     4\nGilcaValentino              39\nJohntrad23                 236\nKelvyTapia                1722\nKrew376                    120\nLeeChongg                   81\nLucaJoHaerms                28\nMatthia61038367             99\nReneGutzmann                 8\nagentur_z                    9\nbertbondnet               1926\ndavidh_23                 1546\nechtes                     908\nedgars83656365             452\nhamed01670699               60\ntrapp_ma                   592\nvannakkol                 2184\nvivekvarma427              304\nzitnikv                     56",
      "text/html": "<div>\n<style scoped>\n    .dataframe tbody tr th:only-of-type {\n        vertical-align: middle;\n    }\n\n    .dataframe tbody tr th {\n        vertical-align: top;\n    }\n\n    .dataframe thead th {\n        text-align: right;\n    }\n</style>\n<table border=\"1\" class=\"dataframe\">\n  <thead>\n    <tr style=\"text-align: right;\">\n      <th></th>\n      <th>friends_count</th>\n    </tr>\n    <tr>\n      <th>screen_name</th>\n      <th></th>\n    </tr>\n  </thead>\n  <tbody>\n    <tr>\n      <th>Bardnet</th>\n      <td>3279</td>\n    </tr>\n    <tr>\n      <th>Flo_bckr</th>\n      <td>4</td>\n    </tr>\n    <tr>\n      <th>GilcaValentino</th>\n      <td>39</td>\n    </tr>\n    <tr>\n      <th>Johntrad23</th>\n      <td>236</td>\n    </tr>\n    <tr>\n      <th>KelvyTapia</th>\n      <td>1722</td>\n    </tr>\n    <tr>\n      <th>Krew376</th>\n      <td>120</td>\n    </tr>\n    <tr>\n      <th>LeeChongg</th>\n      <td>81</td>\n    </tr>\n    <tr>\n      <th>LucaJoHaerms</th>\n      <td>28</td>\n    </tr>\n    <tr>\n      <th>Matthia61038367</th>\n      <td>99</td>\n    </tr>\n    <tr>\n      <th>ReneGutzmann</th>\n      <td>8</td>\n    </tr>\n    <tr>\n      <th>agentur_z</th>\n      <td>9</td>\n    </tr>\n    <tr>\n      <th>bertbondnet</th>\n      <td>1926</td>\n    </tr>\n    <tr>\n      <th>davidh_23</th>\n      <td>1546</td>\n    </tr>\n    <tr>\n      <th>echtes</th>\n      <td>908</td>\n    </tr>\n    <tr>\n      <th>edgars83656365</th>\n      <td>452</td>\n    </tr>\n    <tr>\n      <th>hamed01670699</th>\n      <td>60</td>\n    </tr>\n    <tr>\n      <th>trapp_ma</th>\n      <td>592</td>\n    </tr>\n    <tr>\n      <th>vannakkol</th>\n      <td>2184</td>\n    </tr>\n    <tr>\n      <th>vivekvarma427</th>\n      <td>304</td>\n    </tr>\n    <tr>\n      <th>zitnikv</th>\n      <td>56</td>\n    </tr>\n  </tbody>\n</table>\n</div>"
     },
     "metadata": {},
     "execution_count": 114
    }
   ],
   "source": [
    "flw_dbg.groupby(\"screen_name\").agg({\"friends_count\":\"mean\"})"
   ]
  },
  {
   "cell_type": "code",
   "execution_count": 116,
   "metadata": {},
   "outputs": [],
   "source": [
    "#aa.plot.bar()"
   ]
  },
  {
   "cell_type": "code",
   "execution_count": 117,
   "metadata": {},
   "outputs": [],
   "source": [
    "flw_dbg.index = flw_dbg[\"screen_name\"]"
   ]
  },
  {
   "cell_type": "code",
   "execution_count": null,
   "metadata": {},
   "outputs": [],
   "source": [
    "flw_dbg.head()"
   ]
  },
  {
   "cell_type": "code",
   "execution_count": 118,
   "metadata": {},
   "outputs": [
    {
     "output_type": "execute_result",
     "data": {
      "text/plain": "                 followers_count  statutes_count\nscreen_name                                     \nLeeChongg                     68             683\nvivekvarma427                  7             159\nagentur_z                      0               0\nKelvyTapia                    92             123\ndavidh_23                    287              90\nBardnet                      642           58896\nReneGutzmann                   1               2\nMatthia61038367               21               4\nedgars83656365                 3               0\nKrew376                       17              68\nvannakkol                    939           10109\nbertbondnet                   59            2637\ntrapp_ma                     132             200\nFlo_bckr                       0               0\nhamed01670699                  0               0\nGilcaValentino                 9               0\nJohntrad23                     4               4\nechtes                       189            4903\nzitnikv                        4               5\nLucaJoHaerms                   0               0",
      "text/html": "<div>\n<style scoped>\n    .dataframe tbody tr th:only-of-type {\n        vertical-align: middle;\n    }\n\n    .dataframe tbody tr th {\n        vertical-align: top;\n    }\n\n    .dataframe thead th {\n        text-align: right;\n    }\n</style>\n<table border=\"1\" class=\"dataframe\">\n  <thead>\n    <tr style=\"text-align: right;\">\n      <th></th>\n      <th>followers_count</th>\n      <th>statutes_count</th>\n    </tr>\n    <tr>\n      <th>screen_name</th>\n      <th></th>\n      <th></th>\n    </tr>\n  </thead>\n  <tbody>\n    <tr>\n      <th>LeeChongg</th>\n      <td>68</td>\n      <td>683</td>\n    </tr>\n    <tr>\n      <th>vivekvarma427</th>\n      <td>7</td>\n      <td>159</td>\n    </tr>\n    <tr>\n      <th>agentur_z</th>\n      <td>0</td>\n      <td>0</td>\n    </tr>\n    <tr>\n      <th>KelvyTapia</th>\n      <td>92</td>\n      <td>123</td>\n    </tr>\n    <tr>\n      <th>davidh_23</th>\n      <td>287</td>\n      <td>90</td>\n    </tr>\n    <tr>\n      <th>Bardnet</th>\n      <td>642</td>\n      <td>58896</td>\n    </tr>\n    <tr>\n      <th>ReneGutzmann</th>\n      <td>1</td>\n      <td>2</td>\n    </tr>\n    <tr>\n      <th>Matthia61038367</th>\n      <td>21</td>\n      <td>4</td>\n    </tr>\n    <tr>\n      <th>edgars83656365</th>\n      <td>3</td>\n      <td>0</td>\n    </tr>\n    <tr>\n      <th>Krew376</th>\n      <td>17</td>\n      <td>68</td>\n    </tr>\n    <tr>\n      <th>vannakkol</th>\n      <td>939</td>\n      <td>10109</td>\n    </tr>\n    <tr>\n      <th>bertbondnet</th>\n      <td>59</td>\n      <td>2637</td>\n    </tr>\n    <tr>\n      <th>trapp_ma</th>\n      <td>132</td>\n      <td>200</td>\n    </tr>\n    <tr>\n      <th>Flo_bckr</th>\n      <td>0</td>\n      <td>0</td>\n    </tr>\n    <tr>\n      <th>hamed01670699</th>\n      <td>0</td>\n      <td>0</td>\n    </tr>\n    <tr>\n      <th>GilcaValentino</th>\n      <td>9</td>\n      <td>0</td>\n    </tr>\n    <tr>\n      <th>Johntrad23</th>\n      <td>4</td>\n      <td>4</td>\n    </tr>\n    <tr>\n      <th>echtes</th>\n      <td>189</td>\n      <td>4903</td>\n    </tr>\n    <tr>\n      <th>zitnikv</th>\n      <td>4</td>\n      <td>5</td>\n    </tr>\n    <tr>\n      <th>LucaJoHaerms</th>\n      <td>0</td>\n      <td>0</td>\n    </tr>\n  </tbody>\n</table>\n</div>"
     },
     "metadata": {},
     "execution_count": 118
    }
   ],
   "source": [
    "s_data = flw_dbg[[\"followers_count\", \"statutes_count\"]]\n",
    "s_data"
   ]
  },
  {
   "cell_type": "code",
   "execution_count": 119,
   "metadata": {},
   "outputs": [],
   "source": [
    "s_data[\"followers_count\"] = s_data[\"followers_count\"]+0.01   # Here I added 0.1 value."
   ]
  },
  {
   "cell_type": "code",
   "execution_count": 122,
   "metadata": {},
   "outputs": [],
   "source": [
    "s_data[\"statutes_count\"] = s_data[\"statutes_count\"]+0.01"
   ]
  },
  {
   "cell_type": "code",
   "execution_count": 123,
   "metadata": {},
   "outputs": [
    {
     "output_type": "execute_result",
     "data": {
      "text/plain": "                 followers_count  statutes_count\nscreen_name                                     \nLeeChongg               0.072417        0.021597\nvivekvarma427           0.007455        0.012700\nagentur_z               0.000000        0.010000\nKelvyTapia              0.097977        0.012088\ndavidh_23               0.305644        0.011528\nBardnet                 0.683706        1.010000\nReneGutzmann            0.001065        0.010034\nMatthia61038367         0.022364        0.010068\nedgars83656365          0.003195        0.010000\nKrew376                 0.018104        0.011155\nvannakkol               1.000000        0.181642\nbertbondnet             0.062833        0.054774\ntrapp_ma                0.140575        0.013396\nFlo_bckr                0.000000        0.010000\nhamed01670699           0.000000        0.010000\nGilcaValentino          0.009585        0.010000\nJohntrad23              0.004260        0.010068\nechtes                  0.201278        0.093248\nzitnikv                 0.004260        0.010085\nLucaJoHaerms            0.000000        0.010000",
      "text/html": "<div>\n<style scoped>\n    .dataframe tbody tr th:only-of-type {\n        vertical-align: middle;\n    }\n\n    .dataframe tbody tr th {\n        vertical-align: top;\n    }\n\n    .dataframe thead th {\n        text-align: right;\n    }\n</style>\n<table border=\"1\" class=\"dataframe\">\n  <thead>\n    <tr style=\"text-align: right;\">\n      <th></th>\n      <th>followers_count</th>\n      <th>statutes_count</th>\n    </tr>\n    <tr>\n      <th>screen_name</th>\n      <th></th>\n      <th></th>\n    </tr>\n  </thead>\n  <tbody>\n    <tr>\n      <th>LeeChongg</th>\n      <td>0.072417</td>\n      <td>0.021597</td>\n    </tr>\n    <tr>\n      <th>vivekvarma427</th>\n      <td>0.007455</td>\n      <td>0.012700</td>\n    </tr>\n    <tr>\n      <th>agentur_z</th>\n      <td>0.000000</td>\n      <td>0.010000</td>\n    </tr>\n    <tr>\n      <th>KelvyTapia</th>\n      <td>0.097977</td>\n      <td>0.012088</td>\n    </tr>\n    <tr>\n      <th>davidh_23</th>\n      <td>0.305644</td>\n      <td>0.011528</td>\n    </tr>\n    <tr>\n      <th>Bardnet</th>\n      <td>0.683706</td>\n      <td>1.010000</td>\n    </tr>\n    <tr>\n      <th>ReneGutzmann</th>\n      <td>0.001065</td>\n      <td>0.010034</td>\n    </tr>\n    <tr>\n      <th>Matthia61038367</th>\n      <td>0.022364</td>\n      <td>0.010068</td>\n    </tr>\n    <tr>\n      <th>edgars83656365</th>\n      <td>0.003195</td>\n      <td>0.010000</td>\n    </tr>\n    <tr>\n      <th>Krew376</th>\n      <td>0.018104</td>\n      <td>0.011155</td>\n    </tr>\n    <tr>\n      <th>vannakkol</th>\n      <td>1.000000</td>\n      <td>0.181642</td>\n    </tr>\n    <tr>\n      <th>bertbondnet</th>\n      <td>0.062833</td>\n      <td>0.054774</td>\n    </tr>\n    <tr>\n      <th>trapp_ma</th>\n      <td>0.140575</td>\n      <td>0.013396</td>\n    </tr>\n    <tr>\n      <th>Flo_bckr</th>\n      <td>0.000000</td>\n      <td>0.010000</td>\n    </tr>\n    <tr>\n      <th>hamed01670699</th>\n      <td>0.000000</td>\n      <td>0.010000</td>\n    </tr>\n    <tr>\n      <th>GilcaValentino</th>\n      <td>0.009585</td>\n      <td>0.010000</td>\n    </tr>\n    <tr>\n      <th>Johntrad23</th>\n      <td>0.004260</td>\n      <td>0.010068</td>\n    </tr>\n    <tr>\n      <th>echtes</th>\n      <td>0.201278</td>\n      <td>0.093248</td>\n    </tr>\n    <tr>\n      <th>zitnikv</th>\n      <td>0.004260</td>\n      <td>0.010085</td>\n    </tr>\n    <tr>\n      <th>LucaJoHaerms</th>\n      <td>0.000000</td>\n      <td>0.010000</td>\n    </tr>\n  </tbody>\n</table>\n</div>"
     },
     "metadata": {},
     "execution_count": 123
    }
   ],
   "source": [
    "s_data"
   ]
  },
  {
   "cell_type": "code",
   "execution_count": 121,
   "metadata": {},
   "outputs": [
    {
     "output_type": "execute_result",
     "data": {
      "text/plain": "                 followers_count  statutes_count\nscreen_name                                     \nLeeChongg               0.072417        0.011597\nvivekvarma427           0.007455        0.002700\nagentur_z               0.000000        0.000000\nKelvyTapia              0.097977        0.002088\ndavidh_23               0.305644        0.001528\nBardnet                 0.683706        1.000000\nReneGutzmann            0.001065        0.000034\nMatthia61038367         0.022364        0.000068\nedgars83656365          0.003195        0.000000\nKrew376                 0.018104        0.001155\nvannakkol               1.000000        0.171642\nbertbondnet             0.062833        0.044774\ntrapp_ma                0.140575        0.003396\nFlo_bckr                0.000000        0.000000\nhamed01670699           0.000000        0.000000\nGilcaValentino          0.009585        0.000000\nJohntrad23              0.004260        0.000068\nechtes                  0.201278        0.083248\nzitnikv                 0.004260        0.000085\nLucaJoHaerms            0.000000        0.000000",
      "text/html": "<div>\n<style scoped>\n    .dataframe tbody tr th:only-of-type {\n        vertical-align: middle;\n    }\n\n    .dataframe tbody tr th {\n        vertical-align: top;\n    }\n\n    .dataframe thead th {\n        text-align: right;\n    }\n</style>\n<table border=\"1\" class=\"dataframe\">\n  <thead>\n    <tr style=\"text-align: right;\">\n      <th></th>\n      <th>followers_count</th>\n      <th>statutes_count</th>\n    </tr>\n    <tr>\n      <th>screen_name</th>\n      <th></th>\n      <th></th>\n    </tr>\n  </thead>\n  <tbody>\n    <tr>\n      <th>LeeChongg</th>\n      <td>0.072417</td>\n      <td>0.011597</td>\n    </tr>\n    <tr>\n      <th>vivekvarma427</th>\n      <td>0.007455</td>\n      <td>0.002700</td>\n    </tr>\n    <tr>\n      <th>agentur_z</th>\n      <td>0.000000</td>\n      <td>0.000000</td>\n    </tr>\n    <tr>\n      <th>KelvyTapia</th>\n      <td>0.097977</td>\n      <td>0.002088</td>\n    </tr>\n    <tr>\n      <th>davidh_23</th>\n      <td>0.305644</td>\n      <td>0.001528</td>\n    </tr>\n    <tr>\n      <th>Bardnet</th>\n      <td>0.683706</td>\n      <td>1.000000</td>\n    </tr>\n    <tr>\n      <th>ReneGutzmann</th>\n      <td>0.001065</td>\n      <td>0.000034</td>\n    </tr>\n    <tr>\n      <th>Matthia61038367</th>\n      <td>0.022364</td>\n      <td>0.000068</td>\n    </tr>\n    <tr>\n      <th>edgars83656365</th>\n      <td>0.003195</td>\n      <td>0.000000</td>\n    </tr>\n    <tr>\n      <th>Krew376</th>\n      <td>0.018104</td>\n      <td>0.001155</td>\n    </tr>\n    <tr>\n      <th>vannakkol</th>\n      <td>1.000000</td>\n      <td>0.171642</td>\n    </tr>\n    <tr>\n      <th>bertbondnet</th>\n      <td>0.062833</td>\n      <td>0.044774</td>\n    </tr>\n    <tr>\n      <th>trapp_ma</th>\n      <td>0.140575</td>\n      <td>0.003396</td>\n    </tr>\n    <tr>\n      <th>Flo_bckr</th>\n      <td>0.000000</td>\n      <td>0.000000</td>\n    </tr>\n    <tr>\n      <th>hamed01670699</th>\n      <td>0.000000</td>\n      <td>0.000000</td>\n    </tr>\n    <tr>\n      <th>GilcaValentino</th>\n      <td>0.009585</td>\n      <td>0.000000</td>\n    </tr>\n    <tr>\n      <th>Johntrad23</th>\n      <td>0.004260</td>\n      <td>0.000068</td>\n    </tr>\n    <tr>\n      <th>echtes</th>\n      <td>0.201278</td>\n      <td>0.083248</td>\n    </tr>\n    <tr>\n      <th>zitnikv</th>\n      <td>0.004260</td>\n      <td>0.000085</td>\n    </tr>\n    <tr>\n      <th>LucaJoHaerms</th>\n      <td>0.000000</td>\n      <td>0.000000</td>\n    </tr>\n  </tbody>\n</table>\n</div>"
     },
     "metadata": {},
     "execution_count": 121
    }
   ],
   "source": [
    "s_data = s_data.apply(lambda x: (x-min(x))/(max(x)-min(x)))\n",
    "s_data"
   ]
  },
  {
   "cell_type": "code",
   "execution_count": 125,
   "metadata": {},
   "outputs": [],
   "source": [
    "score = s_data[\"followers_count\"] * s_data[\"statutes_count\"]"
   ]
  },
  {
   "cell_type": "code",
   "execution_count": 126,
   "metadata": {},
   "outputs": [
    {
     "output_type": "execute_result",
     "data": {
      "text/plain": "screen_name\nBardnet            0.690543\nvannakkol          0.181642\nechtes             0.018769\ndavidh_23          0.003524\nbertbondnet        0.003442\ntrapp_ma           0.001883\nLeeChongg          0.001564\nKelvyTapia         0.001184\nMatthia61038367    0.000225\nKrew376            0.000202\nGilcaValentino     0.000096\nvivekvarma427      0.000095\nzitnikv            0.000043\nJohntrad23         0.000043\nedgars83656365     0.000032\nReneGutzmann       0.000011\nFlo_bckr           0.000000\nhamed01670699      0.000000\nagentur_z          0.000000\nLucaJoHaerms       0.000000\ndtype: float64"
     },
     "metadata": {},
     "execution_count": 126
    }
   ],
   "source": [
    "score.sort_values(ascending = False)"
   ]
  },
  {
   "cell_type": "code",
   "execution_count": 127,
   "metadata": {},
   "outputs": [],
   "source": [
    "s_data[\"score\"] = score"
   ]
  },
  {
   "cell_type": "code",
   "execution_count": 128,
   "metadata": {},
   "outputs": [],
   "source": [
    "import numpy as np\n",
    "s_data[\"segment\"] = np.where(s_data[\"score\"] >= score.median()+ score.std()/len(score),\"A\",\"B\")"
   ]
  },
  {
   "cell_type": "markdown",
   "metadata": {},
   "source": [
    "## Segmentation of our DBG account followers"
   ]
  },
  {
   "cell_type": "code",
   "execution_count": 129,
   "metadata": {},
   "outputs": [
    {
     "output_type": "execute_result",
     "data": {
      "text/plain": "                 followers_count  statutes_count     score segment\nscreen_name                                                       \nLeeChongg               0.072417        0.021597  0.001564       B\nvivekvarma427           0.007455        0.012700  0.000095       B\nagentur_z               0.000000        0.010000  0.000000       B\nKelvyTapia              0.097977        0.012088  0.001184       B\ndavidh_23               0.305644        0.011528  0.003524       B\nBardnet                 0.683706        1.010000  0.690543       A\nReneGutzmann            0.001065        0.010034  0.000011       B\nMatthia61038367         0.022364        0.010068  0.000225       B\nedgars83656365          0.003195        0.010000  0.000032       B\nKrew376                 0.018104        0.011155  0.000202       B\nvannakkol               1.000000        0.181642  0.181642       A\nbertbondnet             0.062833        0.054774  0.003442       B\ntrapp_ma                0.140575        0.013396  0.001883       B\nFlo_bckr                0.000000        0.010000  0.000000       B\nhamed01670699           0.000000        0.010000  0.000000       B\nGilcaValentino          0.009585        0.010000  0.000096       B\nJohntrad23              0.004260        0.010068  0.000043       B\nechtes                  0.201278        0.093248  0.018769       A\nzitnikv                 0.004260        0.010085  0.000043       B\nLucaJoHaerms            0.000000        0.010000  0.000000       B",
      "text/html": "<div>\n<style scoped>\n    .dataframe tbody tr th:only-of-type {\n        vertical-align: middle;\n    }\n\n    .dataframe tbody tr th {\n        vertical-align: top;\n    }\n\n    .dataframe thead th {\n        text-align: right;\n    }\n</style>\n<table border=\"1\" class=\"dataframe\">\n  <thead>\n    <tr style=\"text-align: right;\">\n      <th></th>\n      <th>followers_count</th>\n      <th>statutes_count</th>\n      <th>score</th>\n      <th>segment</th>\n    </tr>\n    <tr>\n      <th>screen_name</th>\n      <th></th>\n      <th></th>\n      <th></th>\n      <th></th>\n    </tr>\n  </thead>\n  <tbody>\n    <tr>\n      <th>LeeChongg</th>\n      <td>0.072417</td>\n      <td>0.021597</td>\n      <td>0.001564</td>\n      <td>B</td>\n    </tr>\n    <tr>\n      <th>vivekvarma427</th>\n      <td>0.007455</td>\n      <td>0.012700</td>\n      <td>0.000095</td>\n      <td>B</td>\n    </tr>\n    <tr>\n      <th>agentur_z</th>\n      <td>0.000000</td>\n      <td>0.010000</td>\n      <td>0.000000</td>\n      <td>B</td>\n    </tr>\n    <tr>\n      <th>KelvyTapia</th>\n      <td>0.097977</td>\n      <td>0.012088</td>\n      <td>0.001184</td>\n      <td>B</td>\n    </tr>\n    <tr>\n      <th>davidh_23</th>\n      <td>0.305644</td>\n      <td>0.011528</td>\n      <td>0.003524</td>\n      <td>B</td>\n    </tr>\n    <tr>\n      <th>Bardnet</th>\n      <td>0.683706</td>\n      <td>1.010000</td>\n      <td>0.690543</td>\n      <td>A</td>\n    </tr>\n    <tr>\n      <th>ReneGutzmann</th>\n      <td>0.001065</td>\n      <td>0.010034</td>\n      <td>0.000011</td>\n      <td>B</td>\n    </tr>\n    <tr>\n      <th>Matthia61038367</th>\n      <td>0.022364</td>\n      <td>0.010068</td>\n      <td>0.000225</td>\n      <td>B</td>\n    </tr>\n    <tr>\n      <th>edgars83656365</th>\n      <td>0.003195</td>\n      <td>0.010000</td>\n      <td>0.000032</td>\n      <td>B</td>\n    </tr>\n    <tr>\n      <th>Krew376</th>\n      <td>0.018104</td>\n      <td>0.011155</td>\n      <td>0.000202</td>\n      <td>B</td>\n    </tr>\n    <tr>\n      <th>vannakkol</th>\n      <td>1.000000</td>\n      <td>0.181642</td>\n      <td>0.181642</td>\n      <td>A</td>\n    </tr>\n    <tr>\n      <th>bertbondnet</th>\n      <td>0.062833</td>\n      <td>0.054774</td>\n      <td>0.003442</td>\n      <td>B</td>\n    </tr>\n    <tr>\n      <th>trapp_ma</th>\n      <td>0.140575</td>\n      <td>0.013396</td>\n      <td>0.001883</td>\n      <td>B</td>\n    </tr>\n    <tr>\n      <th>Flo_bckr</th>\n      <td>0.000000</td>\n      <td>0.010000</td>\n      <td>0.000000</td>\n      <td>B</td>\n    </tr>\n    <tr>\n      <th>hamed01670699</th>\n      <td>0.000000</td>\n      <td>0.010000</td>\n      <td>0.000000</td>\n      <td>B</td>\n    </tr>\n    <tr>\n      <th>GilcaValentino</th>\n      <td>0.009585</td>\n      <td>0.010000</td>\n      <td>0.000096</td>\n      <td>B</td>\n    </tr>\n    <tr>\n      <th>Johntrad23</th>\n      <td>0.004260</td>\n      <td>0.010068</td>\n      <td>0.000043</td>\n      <td>B</td>\n    </tr>\n    <tr>\n      <th>echtes</th>\n      <td>0.201278</td>\n      <td>0.093248</td>\n      <td>0.018769</td>\n      <td>A</td>\n    </tr>\n    <tr>\n      <th>zitnikv</th>\n      <td>0.004260</td>\n      <td>0.010085</td>\n      <td>0.000043</td>\n      <td>B</td>\n    </tr>\n    <tr>\n      <th>LucaJoHaerms</th>\n      <td>0.000000</td>\n      <td>0.010000</td>\n      <td>0.000000</td>\n      <td>B</td>\n    </tr>\n  </tbody>\n</table>\n</div>"
     },
     "metadata": {},
     "execution_count": 129
    }
   ],
   "source": [
    "s_data"
   ]
  },
  {
   "cell_type": "code",
   "execution_count": 149,
   "metadata": {
    "tags": []
   },
   "outputs": [
    {
     "output_type": "stream",
     "name": "stderr",
     "text": "[NbConvertApp] Converting notebook dbgaccount.ipynb to html\n[NbConvertApp] Writing 466125 bytes to dbgaccount.html\n"
    }
   ],
   "source": [
    "! jupyter nbconvert --to html dbgaccount.ipynb"
   ]
  },
  {
   "cell_type": "code",
   "execution_count": null,
   "metadata": {},
   "outputs": [],
   "source": []
  }
 ],
 "metadata": {
  "language_info": {
   "codemirror_mode": {
    "name": "ipython",
    "version": 3
   },
   "file_extension": ".py",
   "mimetype": "text/x-python",
   "name": "python",
   "nbconvert_exporter": "python",
   "pygments_lexer": "ipython3",
   "version": "3.7.3-final"
  },
  "orig_nbformat": 2,
  "kernelspec": {
   "name": "python37364bitanaconda3conda784d68e689934ba4886e0e187b77d3e8",
   "display_name": "Python 3.7.3 64-bit ('Anaconda3': conda)"
  }
 },
 "nbformat": 4,
 "nbformat_minor": 2
}